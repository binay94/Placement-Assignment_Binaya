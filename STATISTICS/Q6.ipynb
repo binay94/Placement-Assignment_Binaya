{
 "cells": [
  {
   "cell_type": "markdown",
   "id": "2d4ea15f",
   "metadata": {},
   "source": [
    "**Q-6.** A pharmaceutical company is developing a drug that is supposed to reduce blood pressure. They conduct a clinical trial with 100 patients and record their blood pressure before and after taking the drug. The company wants to know if the change in blood pressure follows a normal distribution. https://drive.google.com/file/d/1mCjtYHiX--mMUjicuaP2gH3k-SnFxt8Y/view?usp=share_"
   ]
  },
  {
   "cell_type": "code",
   "execution_count": 1,
   "id": "c2d4d573",
   "metadata": {},
   "outputs": [
    {
     "data": {
      "text/plain": [
       "Index(['Patient ID', ' Blood Pressure Before (mmHg)',\n",
       "       ' Blood Pressure After (mmHg)'],\n",
       "      dtype='object')"
      ]
     },
     "execution_count": 1,
     "metadata": {},
     "output_type": "execute_result"
    }
   ],
   "source": [
    "import pandas as pd\n",
    "data=pd.read_csv('BPdata.csv')\n",
    "#data=pd.read_csv('https://drive.google.com/file/d/1mCjtYHiX--mMUjicuaP2gH3k-SnFxt8Y/view?usp=share_')\n",
    "df=pd.DataFrame(data)\n",
    "df.columns"
   ]
  },
  {
   "cell_type": "code",
   "execution_count": 2,
   "id": "ccbc15cf",
   "metadata": {},
   "outputs": [
    {
     "data": {
      "text/html": [
       "<div>\n",
       "<style scoped>\n",
       "    .dataframe tbody tr th:only-of-type {\n",
       "        vertical-align: middle;\n",
       "    }\n",
       "\n",
       "    .dataframe tbody tr th {\n",
       "        vertical-align: top;\n",
       "    }\n",
       "\n",
       "    .dataframe thead th {\n",
       "        text-align: right;\n",
       "    }\n",
       "</style>\n",
       "<table border=\"1\" class=\"dataframe\">\n",
       "  <thead>\n",
       "    <tr style=\"text-align: right;\">\n",
       "      <th></th>\n",
       "      <th>Patient ID</th>\n",
       "      <th>Blood Pressure Before (mmHg)</th>\n",
       "      <th>Blood Pressure After (mmHg)</th>\n",
       "    </tr>\n",
       "  </thead>\n",
       "  <tbody>\n",
       "    <tr>\n",
       "      <th>0</th>\n",
       "      <td>1</td>\n",
       "      <td>130</td>\n",
       "      <td>120</td>\n",
       "    </tr>\n",
       "    <tr>\n",
       "      <th>1</th>\n",
       "      <td>2</td>\n",
       "      <td>142</td>\n",
       "      <td>135</td>\n",
       "    </tr>\n",
       "    <tr>\n",
       "      <th>2</th>\n",
       "      <td>3</td>\n",
       "      <td>120</td>\n",
       "      <td>118</td>\n",
       "    </tr>\n",
       "    <tr>\n",
       "      <th>3</th>\n",
       "      <td>4</td>\n",
       "      <td>135</td>\n",
       "      <td>127</td>\n",
       "    </tr>\n",
       "    <tr>\n",
       "      <th>4</th>\n",
       "      <td>5</td>\n",
       "      <td>148</td>\n",
       "      <td>140</td>\n",
       "    </tr>\n",
       "  </tbody>\n",
       "</table>\n",
       "</div>"
      ],
      "text/plain": [
       "   Patient ID   Blood Pressure Before (mmHg)   Blood Pressure After (mmHg)\n",
       "0           1                            130                           120\n",
       "1           2                            142                           135\n",
       "2           3                            120                           118\n",
       "3           4                            135                           127\n",
       "4           5                            148                           140"
      ]
     },
     "execution_count": 2,
     "metadata": {},
     "output_type": "execute_result"
    }
   ],
   "source": [
    "df.head()"
   ]
  },
  {
   "cell_type": "code",
   "execution_count": 3,
   "id": "7aaf375b",
   "metadata": {},
   "outputs": [
    {
     "name": "stdout",
     "output_type": "stream",
     "text": [
      "Anderson-Darling Test:\n",
      "Statistic: 1.7992477463145917\n",
      "Critical Values: [0.555 0.632 0.759 0.885 1.053]\n",
      "Significance Levels: [15.  10.   5.   2.5  1. ]\n",
      "\n",
      "The data does not follows a normal distribution.\n"
     ]
    }
   ],
   "source": [
    "#Normality test by using Anderson-Darling Test\n",
    "from scipy.stats import anderson\n",
    "\n",
    "# Blood pressure change data\n",
    "change_in_bp = df[' Blood Pressure After (mmHg)']\n",
    "\n",
    "# Perform Anderson-Darling test\n",
    "result = anderson(change_in_bp)\n",
    "\n",
    "# Print the results\n",
    "print(\"Anderson-Darling Test:\")\n",
    "print(\"Statistic:\", result.statistic)\n",
    "print(\"Critical Values:\", result.critical_values)\n",
    "print(\"Significance Levels:\", result.significance_level)\n",
    "\n",
    "# Compare the test statistic with critical values\n",
    "alpha = 0.05  # Significance level (e.g., 5%)\n",
    "critical_value = result.critical_values[2]  # Selecting the critical value for alpha=0.05\n",
    "\n",
    "if result.statistic < critical_value:\n",
    "    print(\"\\nThe data follows a normal distribution.\")\n",
    "else:\n",
    "    print(\"\\nThe data does not follows a normal distribution.\")"
   ]
  },
  {
   "cell_type": "code",
   "execution_count": 4,
   "id": "ac03a4dd",
   "metadata": {},
   "outputs": [
    {
     "name": "stdout",
     "output_type": "stream",
     "text": [
      "Shapiro-Wilk Test:\n",
      "Statistic: 0.9400556683540344\n",
      "p-value: 0.00019430516113061458\n",
      "\n",
      "The data does not follows a normal distribution.\n"
     ]
    }
   ],
   "source": [
    "#Normality Test by using Shapiro-Wilk Test\n",
    "from scipy.stats import shapiro\n",
    "\n",
    "# Blood pressure change data\n",
    "change_in_bp = df[' Blood Pressure After (mmHg)']\n",
    "\n",
    "# Perform Shapiro-Wilk test\n",
    "statistic, p_value = shapiro(change_in_bp)\n",
    "\n",
    "# Print the results\n",
    "print(\"Shapiro-Wilk Test:\")\n",
    "print(\"Statistic:\", statistic)\n",
    "print(\"p-value:\", p_value)\n",
    "\n",
    "# Compare the test statistic with critical values\n",
    "alpha = 0.05  # Significance level (e.g., 5%)\n",
    "\n",
    "\n",
    "if p_value > alpha:    \n",
    "    print(\"\\nThe data follows a normal distribution.\")\n",
    "else:\n",
    "    print(\"\\nThe data does not follows a normal distribution.\")"
   ]
  }
 ],
 "metadata": {
  "kernelspec": {
   "display_name": "Python 3 (ipykernel)",
   "language": "python",
   "name": "python3"
  },
  "language_info": {
   "codemirror_mode": {
    "name": "ipython",
    "version": 3
   },
   "file_extension": ".py",
   "mimetype": "text/x-python",
   "name": "python",
   "nbconvert_exporter": "python",
   "pygments_lexer": "ipython3",
   "version": "3.9.13"
  }
 },
 "nbformat": 4,
 "nbformat_minor": 5
}
