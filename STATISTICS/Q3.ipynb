{
 "cells": [
  {
   "cell_type": "markdown",
   "id": "7c3ff872",
   "metadata": {},
   "source": [
    "**Q-3.** Consider the ‘Blood Pressure Before’ and ‘Blood Pressure After’ columns from the data and calculate the following https://drive.google.com/file/d/1mCjtYHiX--mMUjicuaP2gH3k-SnFxt8Y/view?usp=share_\n",
    "\n",
    "a. Measure the dispersion in both and interpret the results.\n",
    "b. Calculate mean and 5% confidence interval and plot it in a graph\n",
    "c. Calculate the Mean absolute deviation and Standard deviation and interpret the results.\n",
    "d. Calculate the correlation coefficient and check the significance of it at 1% level of significance.\n"
   ]
  },
  {
   "cell_type": "markdown",
   "id": "91f23149",
   "metadata": {},
   "source": [
    "**Ans3a.** Measure the dispersion in both and interpret the results.\n",
    "\n",
    "To measure the dispersion in the dataset, we can calculate the range, variance, and standard deviation.\n",
    "\n",
    "For \"Blood Pressure Before\":\n",
    "\n",
    "Range: The range is the difference between the maximum and minimum values. Variance: The variance measures the average squared deviation from the mean. Standard Deviation: The standard deviation is the square root of the variance and provides a measure of the dispersion of data points around the mean.\n",
    "\n",
    "For \"Blood Pressure After\":\n",
    "\n",
    "Range Variance Standard Deviation Let's calculate these measures:\n"
   ]
  },
  {
   "cell_type": "code",
   "execution_count": 1,
   "id": "3efc7e78",
   "metadata": {},
   "outputs": [
    {
     "name": "stdout",
     "output_type": "stream",
     "text": [
      "Blood Pressure Before:\n",
      "Range: 28\n",
      "Variance: 43.53727272727271\n",
      "Standard Deviation: 6.598278012275075\n",
      "\n",
      "Blood Pressure After:\n",
      "Range: 23\n",
      "Variance: 47.4448484848485\n",
      "Standard Deviation: 6.8880221025232276\n"
     ]
    }
   ],
   "source": [
    "import pandas as pd\n",
    "# Create a DataFrame from the provided dataset\n",
    "#data = {\n",
    "   # 'Patient ID': range(1, 101),\n",
    "   # 'Blood Pressure Before (mmHg)': [130, 142, 120, 135, 148, 122, 137, 130, 142, 128, 135, 140, 132, 145, 124, 128, 136, 143, 127, 139, 135, 131, 127, 130, 142, 128, 136, 140, 132, 145, 124, 128, 136, 143, 127, 139, 135, 131, 127, 130, 142, 128, 136, 140, 132, 145, 124, 128, 136, 143, 127, 139, 135, 131, 127, 130, 142, 128, 136, 140, 132, 145, 124, 128, 136, 143, 127, 139, 135, 131, 127, 130, 142, 128, 136, 140, 132, 145, 124, 128, 136, 143, 127, 139, 135, 131, 127, 130, 142, 128, 136, 140, 132, 145, 124, 128, 136, 143, 127, 139, 135, 131, 127],\n",
    "   # 'Blood Pressure After (mmHg)': [120, 135, 118, 127, 140, 118, 129, 124, 137, 125, 129, 132, 125, 136, 118, 122, 130, 139, 123, 132, 131, 126, 120, 123, 139, 122, 129, 136, 127, 140, 119, 121, 129, 137, 122, 135, 129, 124, 119, 124, 139, 123, 131, 135, 130, 125, 121, 124, 139, 123, 131, 136, 127, 141, 118, 121, 129, 137, 123, 135, 130, 125, 121, 124, 122, 129, 135, 124, 118, 121, 129, 137, 123, 135, 130, 125, 121, 124, 122, 129, 135, 124, 118, 121, 129, 137, 123, 135, 130, 125, 121, 124, 122, 129, 135, 124, 118, 121, 129, 137, 123, 135, 130, 125, 121],\n",
    "#}\n",
    "data=pd.read_csv(\"BPdata.csv\")\n",
    "\n",
    "df = pd.DataFrame(data)\n",
    "\n",
    "# Calculate dispersion measures for 'Blood Pressure Before'\n",
    "bp_before_range = df[' Blood Pressure Before (mmHg)'].max() - df[' Blood Pressure Before (mmHg)'].min()\n",
    "bp_before_variance = df[' Blood Pressure Before (mmHg)'].var()\n",
    "bp_before_std = df[' Blood Pressure Before (mmHg)'].std()\n",
    "\n",
    "# Calculate dispersion measures for 'Blood Pressure After'\n",
    "bp_after_range = df[' Blood Pressure After (mmHg)'].max() - df[' Blood Pressure After (mmHg)'].min()\n",
    "bp_after_variance = df[' Blood Pressure After (mmHg)'].var()\n",
    "bp_after_std = df[' Blood Pressure After (mmHg)'].std()\n",
    "\n",
    "print(\"Blood Pressure Before:\")\n",
    "print(\"Range:\", bp_before_range)\n",
    "print(\"Variance:\", bp_before_variance)\n",
    "print(\"Standard Deviation:\", bp_before_std)\n",
    "print()\n",
    "print(\"Blood Pressure After:\")\n",
    "print(\"Range:\", bp_after_range)\n",
    "print(\"Variance:\", bp_after_variance)\n",
    "print(\"Standard Deviation:\", bp_after_std)\n"
   ]
  },
  {
   "cell_type": "markdown",
   "id": "2e0b68b3",
   "metadata": {},
   "source": [
    "**Interpretation:**\n",
    "\n",
    "The range represents the spread between the minimum and maximum values. For both \"Blood Pressure Before\" and \"Blood Pressure After,\" the range indicates the extent of variability in the respective measurements. The variance measures the average squared deviation from the mean. A higher variance suggests greater dispersion of data points from the mean. The standard deviation is the square root of the variance and provides a measure of the dispersion of data points around the mean. It indicates the average amount by which the data points deviate from the mean. A higher standard deviation indicates a higher degree of dispersion."
   ]
  },
  {
   "cell_type": "markdown",
   "id": "9efb01ed",
   "metadata": {},
   "source": [
    "**Ans3b.** Calculate the mean and 5% confidence interval and plot it in a graph\n",
    "\n",
    "To calculate the mean and 5% confidence interval for each column, we can use the formula for the confidence interval:\n",
    "\n",
    "Confidence Interval = Mean ± (Critical Value * Standard Error)"
   ]
  },
  {
   "cell_type": "code",
   "execution_count": 2,
   "id": "26fb40d1",
   "metadata": {},
   "outputs": [
    {
     "data": {
      "image/png": "[encoded data removed]",
      "text/plain": [
       "<Figure size 640x480 with 1 Axes>"
      ]
     },
     "metadata": {},
     "output_type": "display_data"
    }
   ],
   "source": [
    "import numpy as np\n",
    "import matplotlib.pyplot as plt\n",
    "\n",
    "# Calculate mean and confidence interval for 'Blood Pressure Before'\n",
    "bp_before_mean = df[' Blood Pressure Before (mmHg)'].mean()\n",
    "bp_before_std_error = df[' Blood Pressure Before (mmHg)'].std() / np.sqrt(len(df))\n",
    "bp_before_critical_value = 1.96  # Assuming a normal distribution and 95% confidence level\n",
    "bp_before_confidence_interval = (bp_before_mean - bp_before_critical_value * bp_before_std_error,\n",
    "                                 bp_before_mean + bp_before_critical_value * bp_before_std_error)\n",
    "\n",
    "# Calculate mean and confidence interval for 'Blood Pressure After'\n",
    "bp_after_mean = df[' Blood Pressure After (mmHg)'].mean()\n",
    "bp_after_std_error = df[' Blood Pressure After (mmHg)'].std() / np.sqrt(len(df))\n",
    "bp_after_critical_value = 1.96  # Assuming a normal distribution and 95% confidence level\n",
    "bp_after_confidence_interval = (bp_after_mean - bp_after_critical_value * bp_after_std_error,\n",
    "                                bp_after_mean + bp_after_critical_value * bp_after_std_error)\n",
    "\n",
    "# Plotting\n",
    "labels = ['Blood Pressure Before', 'Blood Pressure After']\n",
    "means = [bp_before_mean, bp_after_mean]\n",
    "confidence_intervals = [bp_before_confidence_interval, bp_after_confidence_interval]\n",
    "\n",
    "x = np.arange(len(labels))\n",
    "plt.bar(x, means, yerr=[(upper - lower) / 2 for lower, upper in confidence_intervals])\n",
    "plt.xticks(x, labels)\n",
    "plt.ylabel('Mean')\n",
    "plt.title('Mean and 95% Confidence Interval')\n",
    "\n",
    "# Add data labels\n",
    "for i, mean in enumerate(means):\n",
    "    lower, upper = confidence_intervals[i]\n",
    "    label = f'{mean:.2f}'\n",
    "    plt.text(i, mean, label, ha='center', va='bottom')\n",
    "\n",
    "plt.show()\n"
   ]
  },
  {
   "cell_type": "markdown",
   "id": "3a521eff",
   "metadata": {},
   "source": [
    "**Ans3c.** Calculate the Mean absolute deviation and Standard deviation and interpret the results.\n",
    "Ans3\n",
    "Mean Absolute Deviation (MAD) and Standard Deviation are measures of dispersion that quantify the average deviation of data points from the mean."
   ]
  },
  {
   "cell_type": "code",
   "execution_count": 3,
   "id": "93f89941",
   "metadata": {},
   "outputs": [
    {
     "name": "stdout",
     "output_type": "stream",
     "text": [
      "Blood Pressure Before:\n",
      "Mean Absolute Deviation: 5.7118\n",
      "Standard Deviation: 6.598278012275075\n",
      "\n",
      "Blood Pressure After:\n",
      "Mean Absolute Deviation: 5.9\n",
      "Standard Deviation: 6.8880221025232276\n"
     ]
    }
   ],
   "source": [
    "# Calculate Mean Absolute Deviation (MAD) for 'Blood Pressure Before'\n",
    "bp_before_mad = df[' Blood Pressure Before (mmHg)'].mad()\n",
    "\n",
    "# Calculate Mean Absolute Deviation (MAD) for 'Blood Pressure After'\n",
    "bp_after_mad = df[' Blood Pressure After (mmHg)'].mad()\n",
    "\n",
    "print(\"Blood Pressure Before:\")\n",
    "print(\"Mean Absolute Deviation:\", bp_before_mad)\n",
    "print(\"Standard Deviation:\", bp_before_std)\n",
    "print()\n",
    "print(\"Blood Pressure After:\")\n",
    "print(\"Mean Absolute Deviation:\", bp_after_mad)\n",
    "print(\"Standard Deviation:\", bp_after_std)"
   ]
  },
  {
   "cell_type": "markdown",
   "id": "820d7559",
   "metadata": {},
   "source": [
    "**Interpretation:**\n",
    "\n",
    "Mean Absolute Deviation (MAD) measures the average absolute deviation of data points from the mean. It provides a measure of dispersion that is less affected by extreme values compared to the standard deviation.\n",
    "Standard Deviation measures the average deviation of data points from the mean. It quantifies the spread of data points around the mean and is influenced by extreme values.\n"
   ]
  },
  {
   "cell_type": "markdown",
   "id": "3fb9be26",
   "metadata": {},
   "source": [
    "**Ans3d.** Calculate the correlation coefficient and check the significance of it at the 1% level of significance.\n",
    "\n",
    "To calculate the correlation coefficient and check its significance, we can use the Pearson correlation coefficient (r) and perform a hypothesis test."
   ]
  },
  {
   "cell_type": "code",
   "execution_count": 4,
   "id": "b6cfea67",
   "metadata": {},
   "outputs": [
    {
     "name": "stdout",
     "output_type": "stream",
     "text": [
      "Correlation Coefficient: 0.9779485966556016\n",
      "Is the correlation significant at the 1% level? :  True\n"
     ]
    }
   ],
   "source": [
    "# Calculate the correlation coefficient\n",
    "correlation_coefficient = df[' Blood Pressure Before (mmHg)'].corr(df[' Blood Pressure After (mmHg)'])\n",
    "\n",
    "# Perform a hypothesis test for significance at the 1% level\n",
    "n = len(df)\n",
    "degrees_of_freedom = n - 2\n",
    "t_critical = 2.617  # From t-distribution table for a two-tailed test with alpha = 0.01 and df = 98\n",
    "t_value = correlation_coefficient * np.sqrt((n - 2) / (1 - correlation_coefficient**2))\n",
    "\n",
    "is_significant = abs(t_value) > t_critical\n",
    "\n",
    "print(\"Correlation Coefficient:\", correlation_coefficient)\n",
    "print(\"Is the correlation significant at the 1% level? : \",is_significant)"
   ]
  },
  {
   "cell_type": "markdown",
   "id": "7eb9d610",
   "metadata": {},
   "source": [
    "**Interpretation:**\n",
    "\n",
    "The correlation coefficient (r) measures the strength and direction of the linear relationship between \"Blood Pressure Before\" and \"Blood Pressure After.\" It ranges from -1 to 1, where -1 indicates a perfect negative correlation, 1 indicates a perfect positive correlation, and 0 indicates no linear correlation.\n",
    "By performing a hypothesis test, we can check if the correlation coefficient is significantly different from zero. If the absolute value of the calculated t-value is greater than the critical value at the chosen significance level (1% here), we can conclude that the correlation is significant."
   ]
  }
 ],
 "metadata": {
  "kernelspec": {
   "display_name": "Python 3 (ipykernel)",
   "language": "python",
   "name": "python3"
  },
  "language_info": {
   "codemirror_mode": {
    "name": "ipython",
    "version": 3
   },
   "file_extension": ".py",
   "mimetype": "text/x-python",
   "name": "python",
   "nbconvert_exporter": "python",
   "pygments_lexer": "ipython3",
   "version": "3.9.13"
  }
 },
 "nbformat": 4,
 "nbformat_minor": 5
}
