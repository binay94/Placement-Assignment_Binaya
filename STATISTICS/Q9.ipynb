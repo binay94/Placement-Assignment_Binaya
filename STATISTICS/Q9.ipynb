{
 "cells": [
  {
   "cell_type": "markdown",
   "id": "995f2017",
   "metadata": {},
   "source": [
    "**Q-9.** Given the score of students in multiple exams\n",
    "\n",
    "    Name    Exam 1    Exam 2    Final Exam\n",
    "--------------------------------------\n",
    "\n",
    "    Karan     85        90         92\n",
    "    Deepa     70        80         85\n",
    "    Karthik   90        85         88\n",
    "    Chandan   75        70         75\n",
    "    Jeevan    90        92         96\n",
    "\n",
    "Test the hypothesis that the mean scores of all the students are the same. If not, name the\n",
    "student with the highest score."
   ]
  },
  {
   "cell_type": "code",
   "execution_count": 1,
   "id": "ff4e109d",
   "metadata": {},
   "outputs": [
    {
     "name": "stdout",
     "output_type": "stream",
     "text": [
      "F-value: 10.197552447552443\n",
      "p-value: 0.0014839499389315998\n",
      "[85, 90, 92]-------->89.0\n",
      "[70, 80, 85]-------->78.33333333333333\n",
      "[90, 85, 88]-------->87.66666666666667\n",
      "[75, 70, 75]-------->73.33333333333333\n",
      "[90, 92, 96]-------->92.66666666666667\n"
     ]
    }
   ],
   "source": [
    "import scipy.stats as stats\n",
    "import numpy as np\n",
    "Karan = [85, 90, 92]\n",
    "Deepa = [70, 80, 85]\n",
    "Karthik = [90, 85, 88]\n",
    "Chandan = [75, 70, 75]\n",
    "Jeevan = [90, 92, 96]\n",
    "lst=[Karan,Deepa,Karthik,Chandan,Jeevan]\n",
    "# Perform ANOVA test\n",
    "f_value, p_value = stats.f_oneway(Karan,Deepa,Karthik,Chandan,Jeevan)\n",
    "\n",
    "# Print results\n",
    "print(\"F-value:\", f_value)\n",
    "print(\"p-value:\", p_value)\n",
    "for i in lst:\n",
    "    print(f'{i}-------->{np.mean(i)}') "
   ]
  },
  {
   "cell_type": "markdown",
   "id": "61b6dbdb",
   "metadata": {},
   "source": [
    "The ANOVA test results indicate that the calculated F-value is approximately 10.11 and the p-value is approximately 0.001. Since the p-value is less than the commonly chosen significance level of 0.05, we reject the null hypothesis. This means that we have enough evidence to conclude that there is a significant difference in means among the groups.Jeevan is having highest score(92.67)."
   ]
  }
 ],
 "metadata": {
  "kernelspec": {
   "display_name": "Python 3 (ipykernel)",
   "language": "python",
   "name": "python3"
  },
  "language_info": {
   "codemirror_mode": {
    "name": "ipython",
    "version": 3
   },
   "file_extension": ".py",
   "mimetype": "text/x-python",
   "name": "python",
   "nbconvert_exporter": "python",
   "pygments_lexer": "ipython3",
   "version": "3.9.13"
  }
 },
 "nbformat": 4,
 "nbformat_minor": 5
}
