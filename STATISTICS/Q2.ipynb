{
 "cells": [
  {
   "cell_type": "markdown",
   "id": "96a8d9d1",
   "metadata": {},
   "source": [
    "**Q-2.** Consider a dataset containing the heights (in centimeters) of 1000 individuals. The mean height is 170 cm with a standard deviation of 10 cm. The dataset is approximately normally distributed, and its skewness is approximately zero. Based on this information, answer the following questions:\n",
    "\n",
    "a. What percentage of individuals in the dataset have heights between 160 cm and 180 cm?\n",
    "\n",
    "b. If we randomly select 100 individuals from the dataset, what is the probability that their average height is greaterthan 175 cm? c. Assuming the dataset follows a normal distribution, what is the z-score corresponding to a height of 185 cm?\n",
    "\n",
    "d. We know that 5% of the dataset has heights below a certain value. What is the approximate height corresponding to this threshold?\n",
    "\n",
    "e. Calculate the coefficient of variation (CV) for the dataset.\n",
    "\n",
    "f. Calculate the skewness of the dataset and interpret the result."
   ]
  },
  {
   "cell_type": "markdown",
   "id": "ebedcd8c",
   "metadata": {},
   "source": [
    "**Ans.2a.** To determine the percentage of individuals with heights between 160 cm and 180 cm, we need to calculate the z-scores for these heights and then find the corresponding area under the normal distribution curve.\n",
    "\n",
    "The z-score formula is given by: z = (x - μ) / σ, where x is the height, μ is the mean height, and σ is the standard deviation.\n",
    "\n",
    "For 160 cm: z1 = (160 - 170) / 10 = -1\n",
    "\n",
    "For 180 cm: z2 = (180 - 170) / 10 = 1\n",
    "\n",
    "To find the percentage of individuals between these heights, we can use a standard normal distribution table or a statistical software. Since the dataset is approximately normally distributed and has a skewness close to zero, we can assume a standard normal distribution.\n",
    "\n",
    "Using a standard normal distribution table, the area between z1 and z2 is approximately 0.6826. This means that approximately 68.26% of individuals in the dataset have heights between 160 cm and 180 cm.\n"
   ]
  },
  {
   "cell_type": "code",
   "execution_count": 3,
   "id": "a1d3f092",
   "metadata": {},
   "outputs": [
    {
     "name": "stdout",
     "output_type": "stream",
     "text": [
      "a. Percentage of individuals with heights between 160 cm and 180 cm: 68.26894921370858%\n"
     ]
    }
   ],
   "source": [
    "import scipy.stats as stats\n",
    "\n",
    "# Given information\n",
    "mean_height = 170\n",
    "std_dev = 10\n",
    "sample_size = 100\n",
    "threshold_percentile = 0.05\n",
    "\n",
    "# a. Percentage of individuals with heights between 160 cm and 180 cm\n",
    "z_160 = (160 - mean_height) / std_dev\n",
    "z_180 = (180 - mean_height) / std_dev\n",
    "percentage_between_160_180 = stats.norm.cdf(z_180) - stats.norm.cdf(z_160)\n",
    "percentage_between_160_180 *= 100\n",
    "\n",
    "print(f\"a. Percentage of individuals with heights between 160 cm and 180 cm: {percentage_between_160_180}%\")\n"
   ]
  },
  {
   "cell_type": "markdown",
   "id": "726e2c65",
   "metadata": {},
   "source": [
    "**Ans2b.** The distribution of the sample means is also approximately normal, with the same mean as the population mean but with a standard deviation equal to the population standard deviation divided by the square root of the sample size.\n",
    "\n",
    "To calculate the probability that the average height of a random sample of 100 individuals is greater than 175 cm, we need to calculate the z-score for 175 cm using the sample mean and the sample standard deviation.\n",
    "\n",
    "The z-score formula is given by: z = (x - μ) / (σ / sqrt(n)), where x is the sample mean, μ is the population mean, σ is the population standard deviation, and n is the sample size.\n",
    "\n",
    "In this case, x = 175, μ = 170, σ = 10, and n = 100.\n",
    "\n",
    "z = (175 - 170) / (10 / sqrt(100)) = 5 / 1 = 5\n",
    "\n",
    "Using a standard normal distribution table, we can find the probability associated with a z-score of 5. The probability is extremely small, close to 0. Therefore, the probability that the average height of a random sample of 100 individuals is greater than 175 cm is very low."
   ]
  },
  {
   "cell_type": "code",
   "execution_count": 4,
   "id": "8b9bf3b1",
   "metadata": {},
   "outputs": [
    {
     "name": "stdout",
     "output_type": "stream",
     "text": [
      "b. Probability that average height > 175 cm for a sample of 100 individuals: 0.0000\n"
     ]
    }
   ],
   "source": [
    "# b. Probability that the average height of a sample of 100 individuals is greater than 175 cm\n",
    "se = std_dev / (sample_size ** 0.5)\n",
    "z_175 = (175 - mean_height) / se\n",
    "probability_greater_than_175 = 1 - stats.norm.cdf(z_175)\n",
    "\n",
    "print(f\"b. Probability that average height > 175 cm for a sample of 100 individuals: {probability_greater_than_175:.4f}\")"
   ]
  },
  {
   "cell_type": "markdown",
   "id": "07d23c8f",
   "metadata": {},
   "source": [
    "**Ans2c.** To calculate the z-score corresponding to a height of 185 cm, we can use the formula mentioned earlier.\n",
    "\n",
    "z = (x - μ) / σ\n",
    "\n",
    "In this case, x = 185, μ = 170, and σ = 10.\n",
    "\n",
    "z = (185 - 170) / 10 = 15 / 10 = 1.5\n",
    "\n",
    "The z-score corresponding to a height of 185 cm is 1.5."
   ]
  },
  {
   "cell_type": "code",
   "execution_count": 5,
   "id": "c918cc91",
   "metadata": {},
   "outputs": [
    {
     "name": "stdout",
     "output_type": "stream",
     "text": [
      "c. Z-score corresponding to a height of 185 cm: 1.5\n"
     ]
    }
   ],
   "source": [
    "# c. Z-score corresponding to a height of 185 cm\n",
    "z_185 = (185 - mean_height) / std_dev\n",
    "\n",
    "print(f\"c. Z-score corresponding to a height of 185 cm: {z_185}\")"
   ]
  },
  {
   "cell_type": "markdown",
   "id": "f3aa4942",
   "metadata": {},
   "source": [
    "**Ans2d.** To find the approximate height corresponding to a threshold of 5%, we need to determine the z-score that corresponds to this percentile and then convert it back to the original height using the z-score formula.\n",
    "\n",
    "The z-score associated with a percentile of 5% is approximately -1.645. Using the z-score formula, we can find the height:\n",
    "\n",
    "z = (x - μ) / σ\n",
    "\n",
    "In this case, z = -1.645, μ = 170, and σ = 10.\n",
    "\n",
    "-1.645 = (x - 170) / 10\n",
    "\n",
    "-16.45 = x - 170\n",
    "\n",
    "x = 170 - 16.45\n",
    "\n",
    "x ≈ 153.55\n",
    "\n",
    "Therefore, the approximate height corresponding to the threshold of 5% is approximately 153.55 cm."
   ]
  },
  {
   "cell_type": "code",
   "execution_count": 6,
   "id": "1d9c9411",
   "metadata": {},
   "outputs": [
    {
     "name": "stdout",
     "output_type": "stream",
     "text": [
      "d. Approximate height corresponding to the 5% threshold: 153.55 cm\n"
     ]
    }
   ],
   "source": [
    "# d. Approximate height corresponding to the 5% threshold\n",
    "threshold_z = stats.norm.ppf(threshold_percentile)\n",
    "threshold_height = mean_height + threshold_z * std_dev\n",
    "\n",
    "print(f\"d. Approximate height corresponding to the 5% threshold: {threshold_height:.2f} cm\")"
   ]
  },
  {
   "cell_type": "markdown",
   "id": "183f6b85",
   "metadata": {},
   "source": [
    "**Ans2e.** The coefficient of variation (CV) is a measure of relative variability and is calculated as the ratio of the standard deviation to the mean, expressed as a percentage.\n",
    "\n",
    "CV = (σ / μ) * 100\n",
    "\n",
    "In this case, σ = 10 and μ = 170.\n",
    "\n",
    "CV = (10 / 170) * 100 ≈ 5.88%\n",
    "\n",
    "The coefficient of variation for the dataset is approximately 5.88%."
   ]
  },
  {
   "cell_type": "code",
   "execution_count": null,
   "id": "f2894a68",
   "metadata": {},
   "outputs": [],
   "source": [
    "# e. Coefficient of Variation (CV) for the dataset\n",
    "cv = (std_dev / mean_height) * 100\n",
    "\n",
    "print(f\"e. Coefficient of Variation (CV) for the dataset: {cv:.2f}%\")"
   ]
  },
  {
   "cell_type": "markdown",
   "id": "d5c659a7",
   "metadata": {},
   "source": [
    "**Ans2f.** Skewness is a measure of the asymmetry of a distribution. If the skewness is close to zero, it indicates that the dataset is approximately symmetric.\n",
    "\n",
    "Since the dataset is stated to have a skewness of approximately zero, it suggests that the heights of the individuals are distributed symmetrically around the mean.\n",
    "\n",
    "This means that there is no significant skewness in the height distribution, and the distribution is relatively symmetrical.\n"
   ]
  },
  {
   "cell_type": "code",
   "execution_count": 7,
   "id": "a0d1ea4b",
   "metadata": {},
   "outputs": [
    {
     "name": "stdout",
     "output_type": "stream",
     "text": [
      "f. Skewness of the dataset: 0 (indicating a symmetric distribution)\n"
     ]
    }
   ],
   "source": [
    "# f. Skewness of the dataset\n",
    "skewness = 0  # Given that the skewness is approximately zero\n",
    "\n",
    "print(f\"f. Skewness of the dataset: {skewness} (indicating a symmetric distribution)\")"
   ]
  }
 ],
 "metadata": {
  "kernelspec": {
   "display_name": "Python 3 (ipykernel)",
   "language": "python",
   "name": "python3"
  },
  "language_info": {
   "codemirror_mode": {
    "name": "ipython",
    "version": 3
   },
   "file_extension": ".py",
   "mimetype": "text/x-python",
   "name": "python",
   "nbconvert_exporter": "python",
   "pygments_lexer": "ipython3",
   "version": "3.9.13"
  }
 },
 "nbformat": 4,
 "nbformat_minor": 5
}
