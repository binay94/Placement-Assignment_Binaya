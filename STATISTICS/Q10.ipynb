{
 "cells": [
  {
   "cell_type": "markdown",
   "id": "28dc5f9a",
   "metadata": {},
   "source": [
    "**Q-10.** A factory produces light bulbs, and the probability of a bulb being defective is 0.05. The factory produces a large batch of 500 light bulbs.\n",
    "\n",
    "    a. What is the probability that exactly 20 bulbs are defective?\n",
    "    b. What is the probability that at least 10 bulbs are defective?\n",
    "    c. What is the probability that at max 15 bulbs are defective?\n",
    "    d. On average, how many defective bulbs would you expect in a batch of 500?"
   ]
  },
  {
   "cell_type": "code",
   "execution_count": 1,
   "id": "0078474b",
   "metadata": {},
   "outputs": [
    {
     "name": "stdout",
     "output_type": "stream",
     "text": [
      "a) Probability of exactly 20 bulbs being defective: 0.052\n",
      "\n",
      "b) Probability of at least 10 bulbs being defective: 1.0\n",
      "\n",
      "c) Probability of at most 15 bulbs being defective: 0.02\n",
      "\n",
      "d) Expected number of defective bulbs: 25.0\n"
     ]
    }
   ],
   "source": [
    "from scipy.stats import binom\n",
    "\n",
    "# a.Probability of exactly 20 bulbs are defective\n",
    "n = 500  # Number of trials\n",
    "p = 0.05  # Probability of success (defective bulb)\n",
    "#P(X = k) = (n C k) * p^k * (1 - p)^(n - k)  , using binomial probability formula\n",
    "#P(X = 20) = (500 C 20) * (0.05^20) * (0.95^(500 - 20))\n",
    "\n",
    "# Probability mass function (PMF)\n",
    "probability_20_defective = round(binom.pmf(20, n, p),3)\n",
    "print(\"a) Probability of exactly 20 bulbs being defective:\", probability_20_defective)\n",
    "\n",
    "# b.Probability of at least 10 bulbs are defective\n",
    "#P(X >= 10) = P(X = 10) + P(X = 11) + ........ + P(X = 500)\n",
    "probability_at_least_10_defective =round(1 - binom.cdf(9, n, p),3)\n",
    "print(\"\\nb) Probability of at least 10 bulbs being defective:\", probability_at_least_10_defective)\n",
    "\n",
    "# c.Probability of at max 15 bulbs are defective\n",
    "#P(X <= 15) = P(X = 0) + P(X = 1) + ......... + P(X = 15)\n",
    "probability_at_most_15_defective = round(binom.cdf(15, n, p),3)\n",
    "print(\"\\nc) Probability of at most 15 bulbs being defective:\", probability_at_most_15_defective)\n",
    "\n",
    "# d.Expected number of defective bulbs on average\n",
    "expected_defective_bulbs = n * p\n",
    "print(\"\\nd) Expected number of defective bulbs:\", expected_defective_bulbs)\n"
   ]
  }
 ],
 "metadata": {
  "kernelspec": {
   "display_name": "Python 3 (ipykernel)",
   "language": "python",
   "name": "python3"
  },
  "language_info": {
   "codemirror_mode": {
    "name": "ipython",
    "version": 3
   },
   "file_extension": ".py",
   "mimetype": "text/x-python",
   "name": "python",
   "nbconvert_exporter": "python",
   "pygments_lexer": "ipython3",
   "version": "3.9.13"
  }
 },
 "nbformat": 4,
 "nbformat_minor": 5
}
