{
 "cells": [
  {
   "cell_type": "markdown",
   "id": "c9ce0734",
   "metadata": {},
   "source": [
    "**Q-8.** The anxiety levels of 10 participants were measured before and after a new therapy. The scores are not normally distributed. Use the Wilcoxon signed-rank test to test whether the therapy had a significant effect on anxiety levels. The data is given below: Participant Before therapy After therapy Difference.\n",
    "\n",
    "    Participants  Before Therapy  After Therapy  Difference\n",
    "\n",
    "    1            10               7             -3\n",
    "    2            8                6             -2\n",
    "    3            12               10            -2\n",
    "    4            15               12            -3\n",
    "    5            6                5             -1\n",
    "    6            9                8             -1\n",
    "    7            11               9             -2\n",
    "    8            7                6             -1\n",
    "    9            14               12            -2\n",
    "    10           10               8             -2"
   ]
  },
  {
   "cell_type": "markdown",
   "id": "fee4fbc0",
   "metadata": {},
   "source": [
    "**Ans:** To perform the Wilcoxon signed-rank test, we need to follow these steps:\n",
    "\n",
    "Step 1: Define the null hypothesis (H0) and alternative hypothesis (H1):\n",
    "\n",
    "- H0: The therapy has no significant effect on anxiety levels.\n",
    "- H1: The therapy has a significant effect on anxiety levels.\n",
    "Step 2: Calculate the differences between the before and after therapy scores.\n",
    "\n",
    "    \n",
    "    Participants  Before Therapy  After Therapy  Difference\n",
    "    1            10               7             -3\n",
    "    2            8                6             -2\n",
    "    3            12               10            -2\n",
    "    4            15               12            -3\n",
    "    5            6                5             -1\n",
    "    6            9                8             -1\n",
    "    7            11               9             -2\n",
    "    8            7                6             -1\n",
    "    9            14               12            -2\n",
    "    10           10               8             -2\n",
    "Step 3: Rank the absolute values of the differences. Assign ranks to the absolute differences from smallest to largest, ignoring the signs.\n",
    "\n",
    "    \n",
    "    Participants  Before Therapy  After Therapy  Difference  Absolute Difference  Rank \n",
    "    1            10               7             -3          3                    3     \n",
    "    2            8                6             -2          2                    2     \n",
    "    3            12               10            -2          2                    2     \n",
    "    4            15               12            -3          3                    3     \n",
    "    5            6                5             -1          1                    1     \n",
    "    6            9                8             -1          1                    1     \n",
    "    7            11               9             -2          2                    2     \n",
    "    8            7                6             -1          1                    1     \n",
    "    9            14               12            -2          2                    2     \n",
    "    10           10               8             -2          2                    2     \n",
    "Step 4: Calculate the sum of ranks for positive and negative differences separately.\n",
    "\n",
    "Sum of Ranks for Positive Differences: R+\n",
    "Sum of Ranks for Negative Differences: R-\n",
    "\n",
    "    Participants  Before Therapy  After Therapy  Difference  Absolute Difference  Rank  R+  R-\n",
    "    1            10               7             -3          3                    3     0   3\n",
    "    2            8                6             -2          2                    2     0   2\n",
    "    3            12               10            -2          2                    2     0   2\n",
    "    4            15               12            -3          3                    3     0   3\n",
    "    5            6                5             -1          1                    1     0   1\n",
    "    6            9                8             -1          1                    1     0   1\n",
    "    7            11               9             -2          2                    2     0   2\n",
    "    8            7                6             -1          1                    1     0   1\n",
    "    9            14               12            -2          2                    2     0   2\n",
    "    10           10               8             -2          2                    2     0   2\n",
    "Step 5: Calculate the test statistic (W) using the formula:\n",
    "\n",
    "W = min(R+, R-)\n",
    "In this case, the minimum value between R+ and R- is 0.\n",
    "\n",
    "Step 6: Determine the critical value for the Wilcoxon signed-rank test based on the sample size (n). Look up the critical\n",
    "\n",
    "value in the Wilcoxon signed-rank table or use statistical software.\n",
    "\n",
    "For n = 10, the critical value for a two-tailed test at a significance level of 0.05 is 8.\n",
    "\n",
    "Step 7: Compare the test statistic (W) with the critical value. If W is less than or equal to the critical value, we reject the null hypothesis (H0) and conclude that the therapy had a significant effect on anxiety levels. Otherwise, we fail to reject H0.\n",
    "\n",
    "In this case, the test statistic (W) is 0, which is less than the critical value of 8. Therefore, we reject the null hypothesis and conclude that the therapy had a significant effect on anxiety levels."
   ]
  },
  {
   "cell_type": "code",
   "execution_count": 1,
   "id": "10bad269",
   "metadata": {},
   "outputs": [
    {
     "name": "stdout",
     "output_type": "stream",
     "text": [
      "Wilcoxon signed-rank test statistic: 0.0\n",
      "p-value: 0.001953125\n",
      "==============================\n",
      "Reject the null hypothesis.\n",
      "The therapy had a significant effect on anxiety levels.\n"
     ]
    }
   ],
   "source": [
    "import scipy.stats as stats\n",
    "before_therapy = [10, 8, 12, 15, 6, 9, 11, 7, 14, 10]\n",
    "after_therapy = [7, 6, 10, 12, 5, 8, 9, 6, 12, 8]\n",
    "\n",
    "# Calculate the differences between before and after therapy\n",
    "differences = [after - before for after, before in zip(after_therapy, before_therapy)]\n",
    "\n",
    "# Perform the Wilcoxon signed-rank test\n",
    "statistic, p_value = stats.wilcoxon(differences)\n",
    "\n",
    "print(\"Wilcoxon signed-rank test statistic:\", statistic)\n",
    "print(\"p-value:\", p_value)\n",
    "print(\"=\"*30)\n",
    "significance_level = 0.05\n",
    "\n",
    "if p_value < significance_level:\n",
    "    print(\"Reject the null hypothesis.\")\n",
    "    print(\"The therapy had a significant effect on anxiety levels.\")\n",
    "else:\n",
    "    print(\"Fail to reject the null hypothesis.\")\n",
    "    print(\"There is no significant effect of the therapy on anxiety levels.\")"
   ]
  }
 ],
 "metadata": {
  "kernelspec": {
   "display_name": "Python 3 (ipykernel)",
   "language": "python",
   "name": "python3"
  },
  "language_info": {
   "codemirror_mode": {
    "name": "ipython",
    "version": 3
   },
   "file_extension": ".py",
   "mimetype": "text/x-python",
   "name": "python",
   "nbconvert_exporter": "python",
   "pygments_lexer": "ipython3",
   "version": "3.9.13"
  }
 },
 "nbformat": 4,
 "nbformat_minor": 5
}
