{
 "cells": [
  {
   "cell_type": "markdown",
   "id": "360f0c6d",
   "metadata": {},
   "source": [
    "**Q-4.** A group of 20 friends decide to play a game in which they each write a number between 1 and 20 on a slip of paper and put it into a hat. They then draw one slip of paper at random. What is the probability that the number on the slip of paper is a perfect square (i.e., 1, 4, 9, or 16)?\n",
    "\n",
    "Ans : To calculate the probability that the number drawn from the hat is a perfect square, we need to determine the number of favorable outcomes (perfect squares) and the total number of possible outcomes.\n",
    "\n",
    "The perfect squares between 1 and 20 are 1, 4, 9, and 16. These are the favorable outcomes.\n",
    "\n",
    "The total number of possible outcomes is 20 since there are 20 slips of paper in the hat.\n",
    "\n",
    "Therefore, the probability of drawing a perfect square is:\n",
    "\n",
    "Probability = (Number of favorable outcomes) / (Total number of possible outcomes) = 4 / 20 = 1 / 5 = 0.2 = 20%\n",
    "\n",
    "So, the probability that the number drawn from the hat is a perfect square is 0.2 or 20%."
   ]
  },
  {
   "cell_type": "code",
   "execution_count": 3,
   "id": "e3c35658",
   "metadata": {},
   "outputs": [
    {
     "name": "stdout",
     "output_type": "stream",
     "text": [
      "Probability of drawing a perfect square:0.2 or 20.0%\n"
     ]
    }
   ],
   "source": [
    "import random\n",
    "\n",
    "# Set the number of friends and possible outcomes\n",
    "num_friends = 20\n",
    "possible_outcomes = list(range(1, num_friends + 1))\n",
    "\n",
    "# Count the number of favorable outcomes (perfect squares)\n",
    "favorable_outcomes = sum(num in [1, 4, 9, 16] for num in possible_outcomes)\n",
    "\n",
    "# Simulate drawing a slip of paper multiple times and count the number of perfect squares\n",
    "num_simulations = 10000\n",
    "num_perfect_squares = 0\n",
    "\n",
    "for i in range(num_simulations):\n",
    "    drawn_number = random.choice(possible_outcomes)\n",
    "    if drawn_number in [1, 4, 9, 16]:\n",
    "        num_perfect_squares += 1\n",
    "\n",
    "# Calculate the probability\n",
    "probability = num_perfect_squares / num_simulations\n",
    "\n",
    "# Print the probability\n",
    "print(f\"Probability of drawing a perfect square:{round(probability,2)} or {round(probability,2)*100}%\")\n"
   ]
  }
 ],
 "metadata": {
  "kernelspec": {
   "display_name": "Python 3 (ipykernel)",
   "language": "python",
   "name": "python3"
  },
  "language_info": {
   "codemirror_mode": {
    "name": "ipython",
    "version": 3
   },
   "file_extension": ".py",
   "mimetype": "text/x-python",
   "name": "python",
   "nbconvert_exporter": "python",
   "pygments_lexer": "ipython3",
   "version": "3.9.13"
  }
 },
 "nbformat": 4,
 "nbformat_minor": 5
}
