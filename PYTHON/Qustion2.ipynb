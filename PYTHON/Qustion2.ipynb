{
 "cells": [
  {
   "attachments": {},
   "cell_type": "markdown",
   "metadata": {},
   "source": [
    "Question 2: \n",
    "\n",
    "Consider a string to be valid if all characters of the string appear the same number of times. It is also valid if he can remove just one character at the index in the string, and the remaining characters will occur the same number of times. Given a string, determine if it is valid. If so, return YES , otherwise return NO .\n",
    "\n",
    "Note - You have to write at least 2 additional test cases in which your program will run successfully and provide an explanation for the same. Example input 1 - s = “abc”. This is a valid string because frequencies are { “a”: 1, “b”: 1, “c”: 1 }\n",
    "\n",
    "Example output 1- YES\n",
    "\n",
    "Example input 2 - s “abccc”. This string is not valid as we can remove only 1 occurrence of “c”. That leaves character frequencies of { “a”: 1, “b”: 1 , “c”: 2 }\n",
    "\n",
    "Example output 2 - NO"
   ]
  },
  {
   "cell_type": "code",
   "execution_count": 3,
   "metadata": {},
   "outputs": [
    {
     "name": "stdout",
     "output_type": "stream",
     "text": [
      "NO\n"
     ]
    }
   ],
   "source": [
    "from collections import Counter\n",
    "\n",
    "def is_valid_string(input_string):\n",
    "    char_freq = Counter(input_string)\n",
    "    freq_count = Counter(char_freq.values())\n",
    "\n",
    "    # Case 1: All characters appear same number of times\n",
    "    if len(freq_count) == 1:\n",
    "        return \"YES\"\n",
    "\n",
    "    # Case 2: All characters except one appear same number of times\n",
    "    elif len(freq_count) == 2:\n",
    "        max_freq, min_freq = max(freq_count), min(freq_count)\n",
    "        if freq_count[max_freq] == 1 and (max_freq - min_freq == 1 or min_freq == 1):\n",
    "            return \"YES\"\n",
    "\n",
    "    # All other cases\n",
    "    return \"NO\"\n",
    "\n",
    "# Example usage\n",
    "input_string = \"abbccc\"\n",
    "result = is_valid_string(input_string)\n",
    "print(result)"
   ]
  }
 ],
 "metadata": {
  "kernelspec": {
   "display_name": "base",
   "language": "python",
   "name": "python3"
  },
  "language_info": {
   "codemirror_mode": {
    "name": "ipython",
    "version": 3
   },
   "file_extension": ".py",
   "mimetype": "text/x-python",
   "name": "python",
   "nbconvert_exporter": "python",
   "pygments_lexer": "ipython3",
   "version": "3.9.13"
  },
  "orig_nbformat": 4
 },
 "nbformat": 4,
 "nbformat_minor": 2
}
