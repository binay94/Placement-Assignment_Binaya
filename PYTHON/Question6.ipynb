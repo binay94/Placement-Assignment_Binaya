{
 "cells": [
  {
   "attachments": {},
   "cell_type": "markdown",
   "metadata": {},
   "source": [
    "Question 6 -\n",
    "\n",
    "Using the data from Question 3, write code to analyze the data and answer the following questions.\n",
    "\n",
    "Note \n",
    "\n",
    "    1.Draw plots to demonstrate the analysis for the following questions for better visualizations.\n",
    "    2. Write code comments wherever required for code understanding\n",
    "        Insights to be drawn -\n",
    "        ● Get all Pokemons whose spawn rate is less than 5%\n",
    "        ● Get all Pokemons that have less than 4 weaknesses\n",
    "        ● Get all Pokemons that have no multipliers at all\n",
    "        ● Get all Pokemons that do not have more than 2 evolutions\n",
    "        ● Get all Pokemons whose spawn time is less than 300 seconds.\n",
    "            Note - spawn time format is \"05:32”, so assume “minute: second” format and perform the analysis.\n",
    "        ● Get all Pokemon who have more than two types of capabilities\n"
   ]
  },
  {
   "cell_type": "code",
   "execution_count": 1,
   "metadata": {},
   "outputs": [],
   "source": [
    "#Importing required modules.\n",
    "import pandas as pd\n",
    "import matplotlib.pyplot as plt\n",
    "import seaborn as sns"
   ]
  },
  {
   "cell_type": "code",
   "execution_count": 2,
   "metadata": {},
   "outputs": [
    {
     "data": {
      "text/html": [
       "<div>\n",
       "<style scoped>\n",
       "    .dataframe tbody tr th:only-of-type {\n",
       "        vertical-align: middle;\n",
       "    }\n",
       "\n",
       "    .dataframe tbody tr th {\n",
       "        vertical-align: top;\n",
       "    }\n",
       "\n",
       "    .dataframe thead th {\n",
       "        text-align: right;\n",
       "    }\n",
       "</style>\n",
       "<table border=\"1\" class=\"dataframe\">\n",
       "  <thead>\n",
       "    <tr style=\"text-align: right;\">\n",
       "      <th></th>\n",
       "      <th>ID</th>\n",
       "      <th>Num</th>\n",
       "      <th>Name</th>\n",
       "      <th>Img</th>\n",
       "      <th>Type</th>\n",
       "      <th>Height</th>\n",
       "      <th>Weight</th>\n",
       "      <th>Candy</th>\n",
       "      <th>Candy Count</th>\n",
       "      <th>Egg</th>\n",
       "      <th>Spawn Chance</th>\n",
       "      <th>Avg Spawns</th>\n",
       "      <th>Spawn Time</th>\n",
       "      <th>Multipliers</th>\n",
       "      <th>Weaknesses</th>\n",
       "      <th>Next Evolution</th>\n",
       "      <th>Previous Evolution</th>\n",
       "    </tr>\n",
       "  </thead>\n",
       "  <tbody>\n",
       "    <tr>\n",
       "      <th>0</th>\n",
       "      <td>1</td>\n",
       "      <td>1</td>\n",
       "      <td>Bulbasaur</td>\n",
       "      <td>http://www.serebii.net/pokemongo/pokemon/001.png</td>\n",
       "      <td>Grass, Poison</td>\n",
       "      <td>0.71</td>\n",
       "      <td>6.9</td>\n",
       "      <td>Bulbasaur Candy</td>\n",
       "      <td>25</td>\n",
       "      <td>2.0</td>\n",
       "      <td>0.690</td>\n",
       "      <td>69</td>\n",
       "      <td>20:00</td>\n",
       "      <td>1.58</td>\n",
       "      <td>Fire, Ice, Flying, Psychic</td>\n",
       "      <td>Ivysaur, Venusaur</td>\n",
       "      <td>NaN</td>\n",
       "    </tr>\n",
       "    <tr>\n",
       "      <th>1</th>\n",
       "      <td>2</td>\n",
       "      <td>2</td>\n",
       "      <td>Ivysaur</td>\n",
       "      <td>http://www.serebii.net/pokemongo/pokemon/002.png</td>\n",
       "      <td>Grass, Poison</td>\n",
       "      <td>0.99</td>\n",
       "      <td>13.0</td>\n",
       "      <td>Bulbasaur Candy</td>\n",
       "      <td>100</td>\n",
       "      <td>NaN</td>\n",
       "      <td>0.042</td>\n",
       "      <td>4</td>\n",
       "      <td>07:00</td>\n",
       "      <td>1.2, 1.6</td>\n",
       "      <td>Fire, Ice, Flying, Psychic</td>\n",
       "      <td>Venusaur</td>\n",
       "      <td>Bulbasaur</td>\n",
       "    </tr>\n",
       "    <tr>\n",
       "      <th>2</th>\n",
       "      <td>3</td>\n",
       "      <td>3</td>\n",
       "      <td>Venusaur</td>\n",
       "      <td>http://www.serebii.net/pokemongo/pokemon/003.png</td>\n",
       "      <td>Grass, Poison</td>\n",
       "      <td>2.01</td>\n",
       "      <td>100.0</td>\n",
       "      <td>Bulbasaur Candy</td>\n",
       "      <td>0</td>\n",
       "      <td>NaN</td>\n",
       "      <td>0.017</td>\n",
       "      <td>1</td>\n",
       "      <td>11:30</td>\n",
       "      <td>0</td>\n",
       "      <td>Fire, Ice, Flying, Psychic</td>\n",
       "      <td>NaN</td>\n",
       "      <td>Bulbasaur, Ivysaur</td>\n",
       "    </tr>\n",
       "    <tr>\n",
       "      <th>3</th>\n",
       "      <td>4</td>\n",
       "      <td>4</td>\n",
       "      <td>Charmander</td>\n",
       "      <td>http://www.serebii.net/pokemongo/pokemon/004.png</td>\n",
       "      <td>Fire</td>\n",
       "      <td>0.61</td>\n",
       "      <td>8.5</td>\n",
       "      <td>Charmander Candy</td>\n",
       "      <td>25</td>\n",
       "      <td>2.0</td>\n",
       "      <td>0.253</td>\n",
       "      <td>25</td>\n",
       "      <td>08:45</td>\n",
       "      <td>1.65</td>\n",
       "      <td>Water, Ground, Rock</td>\n",
       "      <td>Charmeleon, Charizard</td>\n",
       "      <td>NaN</td>\n",
       "    </tr>\n",
       "    <tr>\n",
       "      <th>4</th>\n",
       "      <td>5</td>\n",
       "      <td>5</td>\n",
       "      <td>Charmeleon</td>\n",
       "      <td>http://www.serebii.net/pokemongo/pokemon/005.png</td>\n",
       "      <td>Fire</td>\n",
       "      <td>1.09</td>\n",
       "      <td>19.0</td>\n",
       "      <td>Charmander Candy</td>\n",
       "      <td>100</td>\n",
       "      <td>NaN</td>\n",
       "      <td>0.012</td>\n",
       "      <td>1</td>\n",
       "      <td>19:00</td>\n",
       "      <td>1.79</td>\n",
       "      <td>Water, Ground, Rock</td>\n",
       "      <td>Charizard</td>\n",
       "      <td>Charmander</td>\n",
       "    </tr>\n",
       "  </tbody>\n",
       "</table>\n",
       "</div>"
      ],
      "text/plain": [
       "   ID  Num        Name                                               Img  \\\n",
       "0   1    1   Bulbasaur  http://www.serebii.net/pokemongo/pokemon/001.png   \n",
       "1   2    2     Ivysaur  http://www.serebii.net/pokemongo/pokemon/002.png   \n",
       "2   3    3    Venusaur  http://www.serebii.net/pokemongo/pokemon/003.png   \n",
       "3   4    4  Charmander  http://www.serebii.net/pokemongo/pokemon/004.png   \n",
       "4   5    5  Charmeleon  http://www.serebii.net/pokemongo/pokemon/005.png   \n",
       "\n",
       "            Type  Height  Weight             Candy  Candy Count  Egg  \\\n",
       "0  Grass, Poison    0.71     6.9   Bulbasaur Candy           25  2.0   \n",
       "1  Grass, Poison    0.99    13.0   Bulbasaur Candy          100  NaN   \n",
       "2  Grass, Poison    2.01   100.0   Bulbasaur Candy            0  NaN   \n",
       "3           Fire    0.61     8.5  Charmander Candy           25  2.0   \n",
       "4           Fire    1.09    19.0  Charmander Candy          100  NaN   \n",
       "\n",
       "   Spawn Chance  Avg Spawns Spawn Time Multipliers  \\\n",
       "0         0.690          69      20:00        1.58   \n",
       "1         0.042           4      07:00    1.2, 1.6   \n",
       "2         0.017           1      11:30           0   \n",
       "3         0.253          25      08:45        1.65   \n",
       "4         0.012           1      19:00        1.79   \n",
       "\n",
       "                   Weaknesses         Next Evolution  Previous Evolution  \n",
       "0  Fire, Ice, Flying, Psychic      Ivysaur, Venusaur                 NaN  \n",
       "1  Fire, Ice, Flying, Psychic               Venusaur           Bulbasaur  \n",
       "2  Fire, Ice, Flying, Psychic                    NaN  Bulbasaur, Ivysaur  \n",
       "3         Water, Ground, Rock  Charmeleon, Charizard                 NaN  \n",
       "4         Water, Ground, Rock              Charizard          Charmander  "
      ]
     },
     "execution_count": 2,
     "metadata": {},
     "output_type": "execute_result"
    }
   ],
   "source": [
    "# Data Ingestion\n",
    "data= pd.read_excel('pokemon.xlsx')\n",
    "data.head()"
   ]
  },
  {
   "cell_type": "code",
   "execution_count": 3,
   "metadata": {},
   "outputs": [
    {
     "name": "stdout",
     "output_type": "stream",
     "text": [
      "<class 'pandas.core.frame.DataFrame'>\n",
      "RangeIndex: 151 entries, 0 to 150\n",
      "Data columns (total 17 columns):\n",
      " #   Column              Non-Null Count  Dtype  \n",
      "---  ------              --------------  -----  \n",
      " 0   ID                  151 non-null    int64  \n",
      " 1   Num                 151 non-null    int64  \n",
      " 2   Name                151 non-null    object \n",
      " 3   Img                 151 non-null    object \n",
      " 4   Type                151 non-null    object \n",
      " 5   Height              151 non-null    float64\n",
      " 6   Weight              151 non-null    float64\n",
      " 7   Candy               151 non-null    object \n",
      " 8   Candy Count         151 non-null    int64  \n",
      " 9   Egg                 73 non-null     float64\n",
      " 10  Spawn Chance        151 non-null    float64\n",
      " 11  Avg Spawns          151 non-null    int64  \n",
      " 12  Spawn Time          145 non-null    object \n",
      " 13  Multipliers         151 non-null    object \n",
      " 14  Weaknesses          151 non-null    object \n",
      " 15  Next Evolution      70 non-null     object \n",
      " 16  Previous Evolution  72 non-null     object \n",
      "dtypes: float64(4), int64(4), object(9)\n",
      "memory usage: 20.2+ KB\n"
     ]
    }
   ],
   "source": [
    "data.info()"
   ]
  },
  {
   "cell_type": "code",
   "execution_count": 4,
   "metadata": {},
   "outputs": [],
   "source": [
    "# Calculate the spawn rate based on average spawns and spawn chance\n",
    "data['Spawn Rate'] = (data['Avg Spawns'] / 10000) * data['Spawn Chance']\n",
    "\n",
    "# Filter the DataFrame by spawn rate less than 5%\n",
    "filtered_df = data[data['Spawn Rate'] < 0.05]\n",
    "\n",
    "# Get the names of the Pokémon with spawn rate less than 5%\n",
    "pokemon_names = filtered_df['Name'].tolist()\n"
   ]
  },
  {
   "cell_type": "code",
   "execution_count": 5,
   "metadata": {},
   "outputs": [
    {
     "data": {
      "image/png": "[encoded data removed]",
      "text/plain": [
       "<Figure size 800x600 with 1 Axes>"
      ]
     },
     "metadata": {},
     "output_type": "display_data"
    }
   ],
   "source": [
    "# Subset the data based on spawn rate conditions\n",
    "below_5_percent = data[data['Spawn Rate'] < 0.05]\n",
    "above_5_percent = data[data['Spawn Rate'] >= 0.05]\n",
    "\n",
    "# Set up the figure and axes\n",
    "fig, ax = plt.subplots(figsize=(8, 6))\n",
    "\n",
    "# Plot the bar chart for spawn rate below 5%\n",
    "ax.bar('Below 5%', len(below_5_percent), color='red', label='Below 5%')\n",
    "\n",
    "# Plot the bar chart for spawn rate above 5%\n",
    "ax.bar('Above 5%', len(above_5_percent), color='blue', label='Above 5%')\n",
    "\n",
    "# Set labels and title\n",
    "ax.set_xlabel('Spawn Rate')\n",
    "ax.set_ylabel('Count of Pokémon')\n",
    "ax.set_title('Spawn Rate vs Count of Pokémon')\n",
    "\n",
    "# Add data labels to the bars\n",
    "for p in ax.patches:\n",
    "    ax.annotate(str(int(p.get_height())), (p.get_x() + p.get_width() / 2, p.get_height()), ha='center', va='bottom')\n",
    "\n",
    "# Display the legend\n",
    "ax.legend()\n",
    "\n",
    "# Show the plot\n",
    "plt.show()\n"
   ]
  },
  {
   "attachments": {},
   "cell_type": "markdown",
   "metadata": {},
   "source": [
    "Insight:\n",
    "\n",
    "A total of 140 numbers of Pokemons are having spawn rate of less than 5%"
   ]
  },
  {
   "cell_type": "code",
   "execution_count": 6,
   "metadata": {},
   "outputs": [
    {
     "name": "stdout",
     "output_type": "stream",
     "text": [
      "Pokemons whose weaknesses is less than 4:['Charmander', 'Charmeleon', 'Charizard', 'Squirtle', 'Wartortle', 'Blastoise', 'Caterpie', 'Metapod', 'Pidgey', 'Pidgeotto', 'Pidgeot', 'Rattata', 'Raticate', 'Spearow', 'Fearow', 'Ekans', 'Arbok', 'Pikachu', 'Raichu', 'Sandshrew', 'Sandslash', 'Nidoran ♀ (Female)', 'Nidorina', 'Nidoran ♂ (Male)', 'Nidorino', 'Clefairy', 'Clefable', 'Vulpix', 'Ninetales', 'Jigglypuff', 'Wigglytuff', 'Diglett', 'Dugtrio', 'Meowth', 'Persian', 'Psyduck', 'Golduck', 'Mankey', 'Primeape', 'Growlithe', 'Arcanine', 'Poliwag', 'Poliwhirl', 'Abra', 'Kadabra', 'Alakazam', 'Machop', 'Machoke', 'Machamp', 'Tentacool', 'Tentacruel', 'Ponyta', 'Rapidash', 'Magnemite', 'Magneton', \"Farfetch'd\", 'Doduo', 'Dodrio', 'Seel', 'Grimer', 'Muk', 'Shellder', 'Drowzee', 'Hypno', 'Krabby', 'Kingler', 'Voltorb', 'Electrode', 'Cubone', 'Marowak', 'Hitmonlee', 'Hitmonchan', 'Lickitung', 'Koffing', 'Weezing', 'Chansey', 'Kangaskhan', 'Horsea', 'Seadra', 'Goldeen', 'Seaking', 'Staryu', 'Mr. Mime', 'Electabuzz', 'Magmar', 'Pinsir', 'Tauros', 'Magikarp', 'Gyarados', 'Ditto', 'Eevee', 'Vaporeon', 'Jolteon', 'Flareon', 'Porygon', 'Snorlax', 'Zapdos', 'Moltres', 'Dratini', 'Dragonair', 'Mewtwo', 'Mew']\n"
     ]
    }
   ],
   "source": [
    "# Filter the DataFrame by weaknesses\n",
    "filtered_df = data[data['Weaknesses'].str.split(\",\").apply(len) < 4]\n",
    "\n",
    "# Get the names of the Pokemons whose Weaknesses is  less than 4\n",
    "pokemon_names = filtered_df['Name'].tolist()\n",
    "print(f\"Pokemons whose weaknesses is less than 4:{pokemon_names}\")\n"
   ]
  },
  {
   "cell_type": "code",
   "execution_count": 7,
   "metadata": {},
   "outputs": [
    {
     "data": {
      "image/png": "[encoded data removed]",
      "text/plain": [
       "<Figure size 1200x600 with 1 Axes>"
      ]
     },
     "metadata": {},
     "output_type": "display_data"
    }
   ],
   "source": [
    "# Create a figure and set its size\n",
    "plt.figure(figsize=(12, 6))\n",
    "\n",
    "# Count the number of weaknesses for each Pokémon\n",
    "weakness_counts = filtered_df['Weaknesses'].str.count(',') + 1\n",
    "\n",
    "# Count the occurrences of each unique number of weaknesses and sort them in ascending order\n",
    "count_data = weakness_counts.value_counts().sort_index()\n",
    "\n",
    "# Create a bar plot using seaborn\n",
    "sns.barplot(x=count_data.index, y=count_data.values)\n",
    "\n",
    "# Add data labels to the bars\n",
    "for i, count in enumerate(count_data.values):\n",
    "    # Add the count as a label at the center of each bar\n",
    "    plt.text(i, count, str(count), ha='center', va='bottom')\n",
    "\n",
    "# Set the x-axis label\n",
    "plt.xlabel('Number of Weaknesses')\n",
    "\n",
    "# Set the y-axis label\n",
    "plt.ylabel('Count of Pokémon')\n",
    "\n",
    "# Set the plot title\n",
    "plt.title('Number of Weaknesses vs Count of Pokémon')\n",
    "\n",
    "# Adjust the layout to prevent overlapping of elements\n",
    "plt.tight_layout()\n",
    "\n",
    "# Display the plot\n",
    "plt.show()"
   ]
  },
  {
   "attachments": {},
   "cell_type": "markdown",
   "metadata": {},
   "source": [
    "Insight:\n",
    "\n",
    "From graph it is clear that:\n",
    "\n",
    "22 numbers of pokemon who has 1 weakness\n",
    "\n",
    "38 number of pokemon has 2 weaknesses.\n",
    "\n",
    "42 number of pokemons having 3 weaknesses.\n",
    "\n",
    "Hence a total of 102 numbers of Pokemons are having Weaknesses of less than 4.\n"
   ]
  },
  {
   "cell_type": "code",
   "execution_count": 8,
   "metadata": {},
   "outputs": [
    {
     "name": "stdout",
     "output_type": "stream",
     "text": [
      "Pokemons having No Multipliers:['Venusaur', 'Charizard', 'Blastoise', 'Butterfree', 'Beedrill', 'Pidgeot', 'Raticate', 'Fearow', 'Arbok', 'Raichu', 'Sandslash', 'Nidoqueen', 'Nidoking', 'Clefable', 'Ninetales', 'Wigglytuff', 'Golbat', 'Vileplume', 'Parasect', 'Venomoth', 'Dugtrio', 'Persian', 'Golduck', 'Primeape', 'Arcanine', 'Poliwrath', 'Alakazam', 'Machamp', 'Victreebel', 'Tentacruel', 'Golem', 'Rapidash', 'Slowbro', 'Magneton', \"Farfetch'd\", 'Dodrio', 'Dewgong', 'Muk', 'Cloyster', 'Gengar', 'Onix', 'Hypno', 'Kingler', 'Electrode', 'Exeggutor', 'Marowak', 'Hitmonlee', 'Hitmonchan', 'Lickitung', 'Weezing', 'Rhydon', 'Chansey', 'Tangela', 'Kangaskhan', 'Seadra', 'Seaking', 'Starmie', 'Mr. Mime', 'Scyther', 'Jynx', 'Electabuzz', 'Magmar', 'Pinsir', 'Tauros', 'Gyarados', 'Lapras', 'Ditto', 'Vaporeon', 'Jolteon', 'Flareon', 'Porygon', 'Omastar', 'Kabutops', 'Aerodactyl', 'Snorlax', 'Articuno', 'Zapdos', 'Moltres', 'Dragonite', 'Mewtwo', 'Mew']\n"
     ]
    }
   ],
   "source": [
    "# Filter the Dataframe by multipliers.\n",
    "filtered_df = data[data['Multipliers'] == '0']\n",
    "\n",
    "# Get the names of the Pokemons who are not having any Multipliers\n",
    "pokemon_names = filtered_df['Name'].tolist()\n",
    "print(f\"Pokemons having No Multipliers:{pokemon_names}\")"
   ]
  },
  {
   "cell_type": "code",
   "execution_count": 9,
   "metadata": {},
   "outputs": [
    {
     "data": {
      "image/png": "[encoded data removed]",
      "text/plain": [
       "<Figure size 640x480 with 1 Axes>"
      ]
     },
     "metadata": {},
     "output_type": "display_data"
    }
   ],
   "source": [
    "# Count the number of multipliers for each Pokémon\n",
    "multiplier_counts = filtered_df['Multipliers'].str.count(',') \n",
    "\n",
    "# Count the occurrences of each unique number of multipliers and sort them in ascending order\n",
    "count_data = multiplier_counts.value_counts().sort_index()\n",
    "\n",
    "# Create a bar plot using seaborn\n",
    "sns.barplot(x=count_data.index, y=count_data.values)\n",
    "\n",
    "# Add data labels to the bars\n",
    "for i, count in enumerate(count_data.values):\n",
    "    # Add the count as a label above each bar\n",
    "    plt.text(i, count, str(count), ha='center', va='bottom')\n",
    "\n",
    "# Set the x-axis label\n",
    "plt.xlabel('Number of Multipliers')\n",
    "\n",
    "# Set the y-axis label\n",
    "plt.ylabel('Count of Pokémon')\n",
    "\n",
    "# Set the plot title\n",
    "plt.title('Number of Multipliers vs Count of Pokémon')\n",
    "\n",
    "# Adjust the layout to prevent overlapping of elements\n",
    "plt.tight_layout()\n",
    "\n",
    "# Display the plot\n",
    "plt.show()"
   ]
  },
  {
   "attachments": {},
   "cell_type": "markdown",
   "metadata": {},
   "source": [
    "Insight:\n",
    "\n",
    "A total of 81 numbers of Pokemons are having no Multipliers."
   ]
  },
  {
   "cell_type": "code",
   "execution_count": 10,
   "metadata": {},
   "outputs": [
    {
     "name": "stdout",
     "output_type": "stream",
     "text": [
      "Pokemons not having more than 2 Evolutions: ['Bulbasaur', 'Ivysaur', 'Venusaur', 'Charmander', 'Charmeleon', 'Charizard', 'Squirtle', 'Wartortle', 'Blastoise', 'Caterpie', 'Metapod', 'Butterfree', 'Weedle', 'Kakuna', 'Beedrill', 'Pidgey', 'Pidgeotto', 'Pidgeot', 'Rattata', 'Raticate', 'Spearow', 'Fearow', 'Ekans', 'Arbok', 'Pikachu', 'Raichu', 'Sandshrew', 'Sandslash', 'Nidoran ♀ (Female)', 'Nidorina', 'Nidoqueen', 'Nidoran ♂ (Male)', 'Nidorino', 'Nidoking', 'Clefairy', 'Clefable', 'Vulpix', 'Ninetales', 'Jigglypuff', 'Wigglytuff', 'Zubat', 'Golbat', 'Oddish', 'Gloom', 'Vileplume', 'Paras', 'Parasect', 'Venonat', 'Venomoth', 'Diglett', 'Dugtrio', 'Meowth', 'Persian', 'Psyduck', 'Golduck', 'Mankey', 'Primeape', 'Growlithe', 'Arcanine', 'Poliwag', 'Poliwhirl', 'Poliwrath', 'Abra', 'Kadabra', 'Alakazam', 'Machop', 'Machoke', 'Machamp', 'Bellsprout', 'Weepinbell', 'Victreebel', 'Tentacool', 'Tentacruel', 'Geodude', 'Graveler', 'Golem', 'Ponyta', 'Rapidash', 'Slowpoke', 'Slowbro', 'Magnemite', 'Magneton', 'Doduo', 'Dodrio', 'Seel', 'Dewgong', 'Grimer', 'Muk', 'Shellder', 'Cloyster', 'Gastly', 'Haunter', 'Gengar', 'Drowzee', 'Hypno', 'Krabby', 'Kingler', 'Voltorb', 'Electrode', 'Exeggcute', 'Exeggutor', 'Cubone', 'Marowak', 'Koffing', 'Weezing', 'Rhyhorn', 'Rhydon', 'Horsea', 'Seadra', 'Goldeen', 'Seaking', 'Staryu', 'Starmie', 'Magikarp', 'Gyarados', 'Eevee', 'Vaporeon', 'Jolteon', 'Flareon', 'Omanyte', 'Omastar', 'Kabuto', 'Kabutops', 'Dratini', 'Dragonair', 'Dragonite']\n",
      "126\n"
     ]
    }
   ],
   "source": [
    "# Filter the data by Previous and Next Evolutions.\n",
    "filtered_df = data[(data['Previous Evolution'].str.count('>') <= 2) | (data['Next Evolution'].str.count('>') <= 2)]\n",
    "\n",
    "# Get the names of the Pokemons who are  having more than 2 Evolutions\n",
    "pokemon_names = filtered_df['Name'].tolist()\n",
    "print(f\"Pokemons not having more than 2 Evolutions: {pokemon_names}\")\n",
    "print(len(pokemon_names))\n",
    "\n"
   ]
  },
  {
   "attachments": {},
   "cell_type": "markdown",
   "metadata": {},
   "source": [
    "Insight:\n",
    "\n",
    "A total of 126 Pokemons do not have more than 2 Evolutions."
   ]
  },
  {
   "cell_type": "code",
   "execution_count": 11,
   "metadata": {},
   "outputs": [],
   "source": [
    "# Function to convert the time into seconds.\n",
    "def time_to_seconds(time):\n",
    "    if isinstance(time, str):\n",
    "        minutes, seconds = map(int, time.split(':'))\n",
    "        return minutes * 60 + seconds\n",
    "    else:\n",
    "        return 0"
   ]
  },
  {
   "cell_type": "code",
   "execution_count": 12,
   "metadata": {},
   "outputs": [
    {
     "name": "stdout",
     "output_type": "stream",
     "text": [
      "Pokemons having Spawn Time Less than 300 Seconds: ['Squirtle', 'Blastoise', 'Metapod', 'Weedle', 'Kakuna', 'Beedrill', 'Pidgey', 'Pidgeotto', 'Pidgeot', 'Rattata', 'Raticate', 'Fearow', 'Arbok', 'Pikachu', 'Sandshrew', 'Nidoran ♀ (Female)', 'Nidoran ♂ (Male)', 'Clefairy', 'Clefable', 'Ninetales', 'Golbat', 'Oddish', 'Paras', 'Parasect', 'Venonat', 'Diglett', 'Meowth', 'Persian', 'Psyduck', 'Growlithe', 'Arcanine', 'Poliwag', 'Poliwrath', 'Abra', 'Machop', 'Machamp', 'Bellsprout', 'Tentacool', 'Graveler', 'Ponyta', 'Rapidash', 'Slowbro', 'Magnemite', \"Farfetch'd\", 'Dodrio', 'Muk', 'Cloyster', 'Gastly', 'Haunter', 'Gengar', 'Onix', 'Drowzee', 'Hypno', 'Krabby', 'Kingler', 'Voltorb', 'Electrode', 'Cubone', 'Marowak', 'Hitmonlee', 'Lickitung', 'Rhyhorn', 'Chansey', 'Kangaskhan', 'Horsea', 'Seadra', 'Goldeen', 'Mr. Mime', 'Electabuzz', 'Pinsir', 'Tauros', 'Gyarados', 'Ditto', 'Jolteon', 'Porygon', 'Kabuto', 'Articuno', 'Zapdos', 'Moltres', 'Mewtwo', 'Mew']\n",
      "81\n"
     ]
    }
   ],
   "source": [
    "# Filtering the data based on Spawn Time\n",
    "filtered_df = data[data['Spawn Time'].apply(time_to_seconds) < 300]\n",
    "\n",
    "# Get the names of the Pokemons with spawn time less than 300 Seconds\n",
    "pokemon_names = filtered_df['Name'].tolist()\n",
    "print(f\"Pokemons having Spawn Time Less than 300 Seconds: {pokemon_names}\")\n",
    "\n",
    "#Finding Number of Pokemons with spawn time less than 300 Seconds.\n",
    "print(len(pokemon_names))"
   ]
  },
  {
   "attachments": {},
   "cell_type": "markdown",
   "metadata": {},
   "source": [
    "Insight:\n",
    "\n",
    "A total of 81 Pokemons have Spawn time less than 300 Seconds."
   ]
  },
  {
   "cell_type": "code",
   "execution_count": 13,
   "metadata": {},
   "outputs": [
    {
     "name": "stdout",
     "output_type": "stream",
     "text": [
      "Pokemons having more than 2 Capabilities: []\n",
      "0\n"
     ]
    }
   ],
   "source": [
    "filtered_df = data[data['Type'].str.split(',').apply(len) >2]\n",
    "\n",
    "pokemon_names = filtered_df['Name'].tolist()\n",
    "print(f\"Pokemons having more than 2 Capabilities: {pokemon_names}\")\n",
    "print(len(pokemon_names))"
   ]
  },
  {
   "attachments": {},
   "cell_type": "markdown",
   "metadata": {},
   "source": [
    "Insight:\n",
    "\n",
    "No Pokemon is having more than 2 types of capabilities."
   ]
  }
 ],
 "metadata": {
  "kernelspec": {
   "display_name": "base",
   "language": "python",
   "name": "python3"
  },
  "language_info": {
   "codemirror_mode": {
    "name": "ipython",
    "version": 3
   },
   "file_extension": ".py",
   "mimetype": "text/x-python",
   "name": "python",
   "nbconvert_exporter": "python",
   "pygments_lexer": "ipython3",
   "version": "3.9.13"
  },
  "orig_nbformat": 4
 },
 "nbformat": 4,
 "nbformat_minor": 2
}
