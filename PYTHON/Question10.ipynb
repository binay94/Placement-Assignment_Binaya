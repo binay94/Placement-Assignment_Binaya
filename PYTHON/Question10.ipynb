{
 "cells": [
  {
   "attachments": {},
   "cell_type": "markdown",
   "metadata": {},
   "source": [
    "Question 10:\n",
    "\n",
    "Write a program to count the number of verbs, nouns, pronouns, and adjectives in a given particular phrase or paragraph, and return their \n",
    "\n",
    "respective count as a dictionary.\n",
    "\n",
    "Note -\n",
    "\n",
    "1. Write code comments wherever required for code\n",
    "\n",
    "2. You have to write at least 2 additional test cases in which your program will run successfully and provide an explanation for the same."
   ]
  },
  {
   "cell_type": "code",
   "execution_count": 1,
   "metadata": {},
   "outputs": [
    {
     "name": "stderr",
     "output_type": "stream",
     "text": [
      "[nltk_data] Downloading package punkt to\n",
      "[nltk_data]     C:\\Users\\binay\\AppData\\Roaming\\nltk_data...\n",
      "[nltk_data]   Unzipping tokenizers\\punkt.zip.\n",
      "[nltk_data] Downloading package averaged_perceptron_tagger to\n",
      "[nltk_data]     C:\\Users\\binay\\AppData\\Roaming\\nltk_data...\n",
      "[nltk_data]   Unzipping taggers\\averaged_perceptron_tagger.zip.\n"
     ]
    },
    {
     "data": {
      "text/plain": [
       "True"
      ]
     },
     "execution_count": 1,
     "metadata": {},
     "output_type": "execute_result"
    }
   ],
   "source": [
    "# importing necessary modules.\n",
    "import nltk\n",
    "from nltk.tokenize import word_tokenize\n",
    "from nltk.tag import pos_tag\n",
    "nltk.download('punkt')\n",
    "nltk.download('averaged_perceptron_tagger')\n"
   ]
  },
  {
   "cell_type": "code",
   "execution_count": 2,
   "metadata": {},
   "outputs": [],
   "source": [
    "#Creating a function which will count the number of verb,noun,pronoun,adjectives.\n",
    "def count_pos_tags(text):\n",
    "    tokens = word_tokenize(text)\n",
    "    tagged_tokens = pos_tag(tokens)\n",
    "    \n",
    "    counts = {\n",
    "        'Noun': 0,\n",
    "        'Verb': 0,\n",
    "        'Pronoun': 0,\n",
    "        'Adjective': 0\n",
    "    }\n",
    "    for token, tag in tagged_tokens:\n",
    "        if tag.startswith('N'):\n",
    "            counts['Noun'] += 1\n",
    "        elif tag.startswith('V'):\n",
    "            counts['Verb'] += 1\n",
    "        elif tag.startswith('P'):\n",
    "            counts['Pronoun'] += 1\n",
    "        elif tag.startswith('J'):\n",
    "            counts['Adjective'] += 1\n",
    "    \n",
    "    return counts"
   ]
  },
  {
   "cell_type": "code",
   "execution_count": 3,
   "metadata": {},
   "outputs": [
    {
     "name": "stdout",
     "output_type": "stream",
     "text": [
      "{'Noun': 3, 'Verb': 4, 'Pronoun': 1, 'Adjective': 2}\n",
      "{'Noun': 3, 'Verb': 2, 'Pronoun': 1, 'Adjective': 0}\n"
     ]
    }
   ],
   "source": [
    "# Example usage\n",
    "phrase1 = \"The quick brown fox jumps over the lazy dog. He loves to run and play.\"\n",
    "count1 = count_pos_tags(phrase1)\n",
    "print(count1)\n",
    "phrase2 = \"He gave John the opportunity to apply for the job.\"\n",
    "count2 = count_pos_tags(phrase2)\n",
    "print(count2)"
   ]
  }
 ],
 "metadata": {
  "kernelspec": {
   "display_name": "base",
   "language": "python",
   "name": "python3"
  },
  "language_info": {
   "codemirror_mode": {
    "name": "ipython",
    "version": 3
   },
   "file_extension": ".py",
   "mimetype": "text/x-python",
   "name": "python",
   "nbconvert_exporter": "python",
   "pygments_lexer": "ipython3",
   "version": "3.9.13"
  },
  "orig_nbformat": 4
 },
 "nbformat": 4,
 "nbformat_minor": 2
}
