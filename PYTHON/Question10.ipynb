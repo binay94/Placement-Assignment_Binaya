{
 "cells": [
  {
   "cell_type": "code",
   "execution_count": 6,
   "metadata": {},
   "outputs": [
    {
     "name": "stdout",
     "output_type": "stream",
     "text": [
      "{'Noun': 3, 'Verb': 4, 'Pronoun': 1, 'Adjective': 2}\n"
     ]
    }
   ],
   "source": [
    "import nltk\n",
    "from nltk.tokenize import word_tokenize\n",
    "from nltk.tag import pos_tag\n",
    "\n",
    "def count_pos_tags(text):\n",
    "    tokens = word_tokenize(text)\n",
    "    tagged_tokens = pos_tag(tokens)\n",
    "    \n",
    "    pos_counts = {\n",
    "        'Noun': 0,\n",
    "        'Verb': 0,\n",
    "        'Pronoun': 0,\n",
    "        'Adjective': 0\n",
    "    }\n",
    "    \n",
    "    for token, tag in tagged_tokens:\n",
    "        if tag.startswith('N'):\n",
    "            pos_counts['Noun'] += 1\n",
    "        elif tag.startswith('V'):\n",
    "            pos_counts['Verb'] += 1\n",
    "        elif tag.startswith('P'):\n",
    "            pos_counts['Pronoun'] += 1\n",
    "        elif tag.startswith('J'):\n",
    "            pos_counts['Adjective'] += 1\n",
    "    \n",
    "    return pos_counts\n",
    "\n",
    "# Example usage\n",
    "phrase = \"The quick brown fox jumps over the lazy dog. He loves to run and play.\"\n",
    "\n",
    "counts = count_pos_tags(phrase)\n",
    "print(counts)\n"
   ]
  },
  {
   "cell_type": "code",
   "execution_count": null,
   "metadata": {},
   "outputs": [],
   "source": []
  }
 ],
 "metadata": {
  "kernelspec": {
   "display_name": "base",
   "language": "python",
   "name": "python3"
  },
  "language_info": {
   "codemirror_mode": {
    "name": "ipython",
    "version": 3
   },
   "file_extension": ".py",
   "mimetype": "text/x-python",
   "name": "python",
   "nbconvert_exporter": "python",
   "pygments_lexer": "ipython3",
   "version": "3.9.13"
  },
  "orig_nbformat": 4
 },
 "nbformat": 4,
 "nbformat_minor": 2
}
